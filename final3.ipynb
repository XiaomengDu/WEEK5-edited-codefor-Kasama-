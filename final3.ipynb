{
 "cells": [
  {
   "cell_type": "code",
   "execution_count": 1,
   "id": "c4f709e2",
   "metadata": {},
   "outputs": [
    {
     "name": "stdout",
     "output_type": "stream",
     "text": [
      "pygame 2.2.0 (SDL 2.0.22, Python 3.9.13)\n",
      "Hello from the pygame community. https://www.pygame.org/contribute.html\n"
     ]
    },
    {
     "ename": "SystemExit",
     "evalue": "",
     "output_type": "error",
     "traceback": [
      "An exception has occurred, use %tb to see the full traceback.\n",
      "\u001b[1;31mSystemExit\u001b[0m\n"
     ]
    },
    {
     "name": "stderr",
     "output_type": "stream",
     "text": [
      "C:\\ProgramData\\Anaconda3\\lib\\site-packages\\IPython\\core\\interactiveshell.py:3465: UserWarning: To exit: use 'exit', 'quit', or Ctrl-D.\n",
      "  warn(\"To exit: use 'exit', 'quit', or Ctrl-D.\", stacklevel=1)\n"
     ]
    }
   ],
   "source": [
    "import pygame\n",
    "import sys\n",
    "\n",
    "# Initialize Pygame\n",
    "pygame.init()\n",
    "\n",
    "# Create a window for the game\n",
    "screen = pygame.display.set_mode((300, 300))\n",
    "\n",
    "# Set the caption for the window\n",
    "pygame.display.set_caption(\"Tic Tac Toe\")\n",
    "\n",
    "# Create a font for rendering the X and O symbols\n",
    "font = pygame.font.SysFont(None, 100)\n",
    "\n",
    "# Initialize the game board with empty spaces\n",
    "board = [[\" \", \" \", \" \"] for _ in range(3)]\n",
    "\n",
    "# Define the two players\n",
    "players = [\"X\", \"O\"]\n",
    "\n",
    "# Set the current player to be the first player in the list\n",
    "current_player = players[0]\n",
    "\n",
    "# Set the game over flag to False\n",
    "game_over = False\n",
    "\n",
    "# Define the colors for the winner and tie messages\n",
    "winner_color = (255, 0, 0) # Red\n",
    "tie_color = (0, 0, 255) # Blue\n",
    "\n",
    "# Function to draw the tic-tac-toe board\n",
    "def draw_board():\n",
    "    # Fill the screen with white\n",
    "    screen.fill((255, 255, 255))\n",
    "    \n",
    "    # Draw the horizontal and vertical lines\n",
    "    for i in range(1, 3):\n",
    "        pygame.draw.line(screen, (0,0, 0), (0, i*100), (300, i*100), 3)\n",
    "        pygame.draw.line(screen, (0, 0, 0), (i*100, 0), (i*100, 300), 3)\n",
    "    \n",
    "    # Draw the X and O symbols\n",
    "    for i in range(3):\n",
    "        for j in range(3):\n",
    "            if board[i][j] != \" \":\n",
    "                text = font.render(board[i][j], True, (0, 0, 0))\n",
    "                screen.blit(text, (j*100 + 50 - text.get_width()//2, i*100 + 50 - text.get_height()//2))\n",
    "\n",
    "# Function to check if a player has won\n",
    "def check_win(player):\n",
    "    for i in range(3):\n",
    "        if board[i][0] == board[i][1] == board[i][2] == player:\n",
    "            return True\n",
    "        if board[0][i] == board[1][i] == board[2][i] == player:\n",
    "            return True\n",
    "    if board[0][0] == board[1][1] == board[2][2] == player:\n",
    "        return True\n",
    "    if board[0][2] == board[1][1] == board[2][0] == player:\n",
    "        return True\n",
    "    return False\n",
    "\n",
    "# Main game loop\n",
    "while True:\n",
    "    # Clear the game board\n",
    "    board = [[\" \", \" \", \" \"] for _ in range(3)]\n",
    "    \n",
    "    # Set the current player to be the first player in the list\n",
    "    current_player = players[0]\n",
    "    \n",
    "    # Set the game over flag to False\n",
    "    game_over = False\n",
    "    \n",
    "    # Draw the initial board\n",
    "    draw_board()\n",
    "    pygame.display.update()\n",
    "    \n",
    "    # Wait for the player to click on a cell\n",
    "    while not game_over:\n",
    "        for event in pygame.event.get():\n",
    "            if event.type == pygame.QUIT:\n",
    "                pygame.quit()\n",
    "                sys.exit()\n",
    "            \n",
    "            # Check for mouse click events\n",
    "            elif event.type == pygame.MOUSEBUTTONUP:\n",
    "                x, y = pygame.mouse.get_pos()\n",
    "                row, col = y//100, x//100\n",
    "                \n",
    "                 # Check if the cell is already occupied\n",
    "                if board[row][col] == \" \":\n",
    "                    board[row][col] = current_player\n",
    "                    draw_board()\n",
    "                    pygame.display.update()\n",
    "                    # Check if the current player has won\n",
    "                    if check_win(current_player):\n",
    "                        winner_text = font.render(f\"{current_player} wins!\", True, winner_color)\n",
    "                        winner_rect = winner_text.get_rect(center=(150, 150))\n",
    "                        screen.blit(winner_text, winner_rect)\n",
    "                        pygame.display.update()\n",
    "                        pygame.time.wait(1000)\n",
    "                        game_over = True\n",
    "                        break\n",
    "                    # Switch to the other player's turn\n",
    "                    elif all(board[i][j] != \" \" for i in range(3) for j in range(3)):\n",
    "                        tie_text = font.render(\"Tie!\", True, tie_color)\n",
    "                        tie_rect = tie_text.get_rect(center=(150, 150))\n",
    "                        screen.blit(tie_text, tie_rect)\n",
    "                        pygame.display.update()\n",
    "                        pygame.time.wait(1000)\n",
    "                        game_over = True\n",
    "                        break\n",
    "                    # Switch to the other player's turn\n",
    "                    else:\n",
    "                        current_player = players[(players.index(current_player)+1)%2]\n",
    "        # Add a small delay to reduce CPU usage\n",
    "        pygame.time.wait(10) "
   ]
  },
  {
   "cell_type": "code",
   "execution_count": 14,
   "id": "a603ab33",
   "metadata": {},
   "outputs": [
    {
     "ename": "SystemExit",
     "evalue": "",
     "output_type": "error",
     "traceback": [
      "\u001b[1;31m---------------------------------------------------------------------------\u001b[0m",
      "\u001b[1;31mSystemExit\u001b[0m                                Traceback (most recent call last)",
      "\u001b[1;32m~\\AppData\\Local\\Temp\\ipykernel_1944\\3900678322.py\u001b[0m in \u001b[0;36m<module>\u001b[1;34m\u001b[0m\n\u001b[0;32m     80\u001b[0m             \u001b[1;32mif\u001b[0m \u001b[0mevent\u001b[0m\u001b[1;33m.\u001b[0m\u001b[0mtype\u001b[0m \u001b[1;33m==\u001b[0m \u001b[0mpygame\u001b[0m\u001b[1;33m.\u001b[0m\u001b[0mQUIT\u001b[0m\u001b[1;33m:\u001b[0m\u001b[1;33m\u001b[0m\u001b[1;33m\u001b[0m\u001b[0m\n\u001b[0;32m     81\u001b[0m                 \u001b[0mpygame\u001b[0m\u001b[1;33m.\u001b[0m\u001b[0mquit\u001b[0m\u001b[1;33m(\u001b[0m\u001b[1;33m)\u001b[0m\u001b[1;33m\u001b[0m\u001b[1;33m\u001b[0m\u001b[0m\n\u001b[1;32m---> 82\u001b[1;33m                 \u001b[0msys\u001b[0m\u001b[1;33m.\u001b[0m\u001b[0mexit\u001b[0m\u001b[1;33m(\u001b[0m\u001b[1;33m)\u001b[0m\u001b[1;33m\u001b[0m\u001b[1;33m\u001b[0m\u001b[0m\n\u001b[0m\u001b[0;32m     83\u001b[0m \u001b[1;33m\u001b[0m\u001b[0m\n\u001b[0;32m     84\u001b[0m             \u001b[1;31m# Check for mouse click events\u001b[0m\u001b[1;33m\u001b[0m\u001b[1;33m\u001b[0m\u001b[0m\n",
      "\u001b[1;31mSystemExit\u001b[0m: "
     ]
    }
   ],
   "source": [
    "%tb"
   ]
  },
  {
   "cell_type": "code",
   "execution_count": null,
   "id": "a82816c7",
   "metadata": {},
   "outputs": [],
   "source": []
  }
 ],
 "metadata": {
  "kernelspec": {
   "display_name": "Python 3 (ipykernel)",
   "language": "python",
   "name": "python3"
  },
  "language_info": {
   "codemirror_mode": {
    "name": "ipython",
    "version": 3
   },
   "file_extension": ".py",
   "mimetype": "text/x-python",
   "name": "python",
   "nbconvert_exporter": "python",
   "pygments_lexer": "ipython3",
   "version": "3.9.13"
  }
 },
 "nbformat": 4,
 "nbformat_minor": 5
}
